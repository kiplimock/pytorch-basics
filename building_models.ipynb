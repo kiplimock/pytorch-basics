{
 "cells": [
  {
   "cell_type": "markdown",
   "metadata": {},
   "source": [
    "# Building Models with PyTorch\n",
    "\n",
    "## `torch.nn.Module` and `torch.nn.Parameter`\n",
    "\n",
    "In this video, we'll be discussing some of the tools PyTorch makes available for building deep learning networks.\n",
    "\n",
    "Except for `Parameter`, the classes we discuss in this video are all subclasses of `torch.nn.Module`. This is the PyTorch base class meant to encapsulate behaviors specific to PyTorch Models and their components.\n",
    "\n",
    "One important behavior of `torch.nn.Module` is registering parameters. If a particular `Module` subclass has learning weights, these weights are expressed as instances of `torch.nn.Parameter`. The `Parameter` class is a subclass of `torch.Tensor`, with the special behavior that when they are assigned as attributes of a `Module`, they are added to the list of that modules parameters. These parameters may be accessed through the `parameters()` method on the `Module` class.\n",
    "\n",
    "As a simple example, here's a very simple model with two linear layers and an activation function. We'll create an instance of it and ask it to report on its parameters:"
   ]
  },
  {
   "cell_type": "code",
   "execution_count": 1,
   "metadata": {},
   "outputs": [],
   "source": [
    "import torch\n",
    "import torch.nn as nn"
   ]
  },
  {
   "cell_type": "code",
   "execution_count": 8,
   "metadata": {},
   "outputs": [
    {
     "name": "stdout",
     "output_type": "stream",
     "text": [
      "The model: \n",
      "TinyModel(\n",
      "  (linear1): Linear(in_features=100, out_features=200, bias=True)\n",
      "  (activation): ReLU()\n",
      "  (linear2): Linear(in_features=200, out_features=10, bias=True)\n",
      "  (softmax): Softmax(dim=None)\n",
      ")\n",
      "\n",
      "The first layer: \n",
      "Linear(in_features=100, out_features=200, bias=True)\n",
      "\n",
      "Model parameters: \n",
      "Parameter containing:\n",
      "tensor([[-0.0049,  0.0287, -0.0713,  ...,  0.0117, -0.0928, -0.0164],\n",
      "        [ 0.0668,  0.0807, -0.0445,  ...,  0.0880,  0.0066,  0.0369],\n",
      "        [-0.0443, -0.0646, -0.0646,  ...,  0.0030, -0.0302, -0.0789],\n",
      "        ...,\n",
      "        [ 0.0565,  0.0021,  0.0099,  ..., -0.0171,  0.0127, -0.0806],\n",
      "        [-0.0029, -0.0750, -0.0854,  ...,  0.0117, -0.0610,  0.0687],\n",
      "        [-0.0963, -0.0574,  0.0508,  ..., -0.0659, -0.0090,  0.0193]],\n",
      "       requires_grad=True)\n",
      "Parameter containing:\n",
      "tensor([-0.0030,  0.0548, -0.0232,  0.0484,  0.0642, -0.0402,  0.0019,  0.0417,\n",
      "         0.0707, -0.0302, -0.0146, -0.0815, -0.0031,  0.0125, -0.0840,  0.0771,\n",
      "        -0.0169,  0.0668,  0.0551,  0.0114,  0.0833, -0.0943, -0.0825, -0.0408,\n",
      "         0.0976, -0.0006, -0.0634,  0.0560,  0.0845, -0.0525, -0.0228,  0.0292,\n",
      "         0.0586, -0.0532,  0.0937, -0.0015,  0.0175,  0.0323, -0.0699,  0.0034,\n",
      "        -0.0859, -0.0269, -0.0833, -0.0466,  0.0376,  0.0053,  0.0158,  0.0515,\n",
      "        -0.0913,  0.0565, -0.0379, -0.0005,  0.0719,  0.0221,  0.0155,  0.0680,\n",
      "         0.0728, -0.0204,  0.0628,  0.0814,  0.0432, -0.0753,  0.0359, -0.0836,\n",
      "         0.0729, -0.0164,  0.0982,  0.0367,  0.0242, -0.0191, -0.0735, -0.0509,\n",
      "         0.0870, -0.0454,  0.0656, -0.0335,  0.0063, -0.0796,  0.0999,  0.0949,\n",
      "        -0.0635,  0.0131,  0.0230, -0.0213, -0.0222, -0.0753,  0.0426, -0.0012,\n",
      "         0.0572,  0.0813,  0.0036, -0.0344,  0.0619,  0.0648, -0.0082, -0.0903,\n",
      "        -0.0797,  0.0952, -0.0311, -0.0919, -0.0741, -0.0103,  0.0009, -0.0288,\n",
      "        -0.0746,  0.0335, -0.0653,  0.0392,  0.0201,  0.0815,  0.0906, -0.0101,\n",
      "         0.0273, -0.0610,  0.0170,  0.0595,  0.0706,  0.0787, -0.0443,  0.0856,\n",
      "        -0.0716,  0.0566, -0.0456,  0.0232,  0.0399,  0.0938, -0.0797,  0.0565,\n",
      "         0.0199,  0.0726,  0.0119,  0.0350, -0.0805, -0.0915,  0.0723,  0.0571,\n",
      "         0.0714, -0.0314,  0.0972,  0.0731,  0.0959, -0.0446,  0.0174,  0.0105,\n",
      "         0.0496, -0.0899, -0.0953,  0.0110, -0.0219, -0.0203, -0.0928, -0.0421,\n",
      "         0.0888, -0.0865, -0.0584, -0.0275,  0.0051, -0.0734, -0.0753,  0.0338,\n",
      "         0.0672,  0.0138,  0.0858, -0.0867, -0.0728, -0.0021,  0.0608, -0.0821,\n",
      "        -0.0474,  0.0127,  0.0050,  0.0698,  0.0003, -0.0397,  0.0025,  0.0869,\n",
      "        -0.0792, -0.0532, -0.0307,  0.0170, -0.0036,  0.0969, -0.0193,  0.0836,\n",
      "         0.0181,  0.0580,  0.0053, -0.0441,  0.0878,  0.0225,  0.0549,  0.0431,\n",
      "         0.0350, -0.0164,  0.0239,  0.0009,  0.0714, -0.0709,  0.0464,  0.0897],\n",
      "       requires_grad=True)\n",
      "Parameter containing:\n",
      "tensor([[-0.0383,  0.0699,  0.0179,  ...,  0.0391,  0.0245, -0.0591],\n",
      "        [ 0.0064, -0.0206, -0.0585,  ..., -0.0500, -0.0408,  0.0289],\n",
      "        [-0.0380,  0.0063,  0.0096,  ...,  0.0658, -0.0182,  0.0159],\n",
      "        ...,\n",
      "        [ 0.0082, -0.0134, -0.0240,  ..., -0.0067,  0.0025, -0.0681],\n",
      "        [-0.0341,  0.0231,  0.0432,  ...,  0.0601, -0.0024,  0.0006],\n",
      "        [ 0.0041,  0.0269,  0.0373,  ..., -0.0465,  0.0523, -0.0164]],\n",
      "       requires_grad=True)\n",
      "Parameter containing:\n",
      "tensor([-0.0135, -0.0574, -0.0426, -0.0065, -0.0211, -0.0044,  0.0386, -0.0128,\n",
      "        -0.0361, -0.0348], requires_grad=True)\n",
      "\n",
      "Layer parameters:\n",
      "Parameter containing:\n",
      "tensor([[-0.0049,  0.0287, -0.0713,  ...,  0.0117, -0.0928, -0.0164],\n",
      "        [ 0.0668,  0.0807, -0.0445,  ...,  0.0880,  0.0066,  0.0369],\n",
      "        [-0.0443, -0.0646, -0.0646,  ...,  0.0030, -0.0302, -0.0789],\n",
      "        ...,\n",
      "        [ 0.0565,  0.0021,  0.0099,  ..., -0.0171,  0.0127, -0.0806],\n",
      "        [-0.0029, -0.0750, -0.0854,  ...,  0.0117, -0.0610,  0.0687],\n",
      "        [-0.0963, -0.0574,  0.0508,  ..., -0.0659, -0.0090,  0.0193]],\n",
      "       requires_grad=True)\n",
      "Parameter containing:\n",
      "tensor([-0.0030,  0.0548, -0.0232,  0.0484,  0.0642, -0.0402,  0.0019,  0.0417,\n",
      "         0.0707, -0.0302, -0.0146, -0.0815, -0.0031,  0.0125, -0.0840,  0.0771,\n",
      "        -0.0169,  0.0668,  0.0551,  0.0114,  0.0833, -0.0943, -0.0825, -0.0408,\n",
      "         0.0976, -0.0006, -0.0634,  0.0560,  0.0845, -0.0525, -0.0228,  0.0292,\n",
      "         0.0586, -0.0532,  0.0937, -0.0015,  0.0175,  0.0323, -0.0699,  0.0034,\n",
      "        -0.0859, -0.0269, -0.0833, -0.0466,  0.0376,  0.0053,  0.0158,  0.0515,\n",
      "        -0.0913,  0.0565, -0.0379, -0.0005,  0.0719,  0.0221,  0.0155,  0.0680,\n",
      "         0.0728, -0.0204,  0.0628,  0.0814,  0.0432, -0.0753,  0.0359, -0.0836,\n",
      "         0.0729, -0.0164,  0.0982,  0.0367,  0.0242, -0.0191, -0.0735, -0.0509,\n",
      "         0.0870, -0.0454,  0.0656, -0.0335,  0.0063, -0.0796,  0.0999,  0.0949,\n",
      "        -0.0635,  0.0131,  0.0230, -0.0213, -0.0222, -0.0753,  0.0426, -0.0012,\n",
      "         0.0572,  0.0813,  0.0036, -0.0344,  0.0619,  0.0648, -0.0082, -0.0903,\n",
      "        -0.0797,  0.0952, -0.0311, -0.0919, -0.0741, -0.0103,  0.0009, -0.0288,\n",
      "        -0.0746,  0.0335, -0.0653,  0.0392,  0.0201,  0.0815,  0.0906, -0.0101,\n",
      "         0.0273, -0.0610,  0.0170,  0.0595,  0.0706,  0.0787, -0.0443,  0.0856,\n",
      "        -0.0716,  0.0566, -0.0456,  0.0232,  0.0399,  0.0938, -0.0797,  0.0565,\n",
      "         0.0199,  0.0726,  0.0119,  0.0350, -0.0805, -0.0915,  0.0723,  0.0571,\n",
      "         0.0714, -0.0314,  0.0972,  0.0731,  0.0959, -0.0446,  0.0174,  0.0105,\n",
      "         0.0496, -0.0899, -0.0953,  0.0110, -0.0219, -0.0203, -0.0928, -0.0421,\n",
      "         0.0888, -0.0865, -0.0584, -0.0275,  0.0051, -0.0734, -0.0753,  0.0338,\n",
      "         0.0672,  0.0138,  0.0858, -0.0867, -0.0728, -0.0021,  0.0608, -0.0821,\n",
      "        -0.0474,  0.0127,  0.0050,  0.0698,  0.0003, -0.0397,  0.0025,  0.0869,\n",
      "        -0.0792, -0.0532, -0.0307,  0.0170, -0.0036,  0.0969, -0.0193,  0.0836,\n",
      "         0.0181,  0.0580,  0.0053, -0.0441,  0.0878,  0.0225,  0.0549,  0.0431,\n",
      "         0.0350, -0.0164,  0.0239,  0.0009,  0.0714, -0.0709,  0.0464,  0.0897],\n",
      "       requires_grad=True)\n"
     ]
    }
   ],
   "source": [
    "class TinyModel(nn.Module):\n",
    "\n",
    "    def __init__(self):\n",
    "        super(TinyModel, self).__init__()\n",
    "        self.linear1 = nn.Linear(100, 200)\n",
    "        self.activation = nn.ReLU()\n",
    "        self.linear2 = nn.Linear(200, 10)\n",
    "        self.softmax = nn.Softmax()\n",
    "    \n",
    "\n",
    "    def forward(self, x):\n",
    "        x = self.linear1(x)\n",
    "        x = self.activation(x)\n",
    "        x = self.linear2(x)\n",
    "        x = self.softmax(x)\n",
    "        return x\n",
    "\n",
    "tinymodel = TinyModel()\n",
    "\n",
    "print(f\"The model: \\n{tinymodel}\")\n",
    "\n",
    "print(f\"\\nThe first layer: \\n{tinymodel.linear1}\")\n",
    "\n",
    "print(\"\\nModel parameters: \")\n",
    "for param in tinymodel.parameters():\n",
    "    print(param)\n",
    "\n",
    "print(\"\\nLayer parameters:\")\n",
    "for param in tinymodel.linear1.parameters():\n",
    "    print(param)"
   ]
  },
  {
   "cell_type": "markdown",
   "metadata": {},
   "source": [
    "This shows the fundamental structure of a PyTorch model: there is an `__init__()` method that defines the layers and other components of a model, and a `forward()` method where the computation gets done. Note that we can print the model, or any of its submodules, to learn about its structure.\n",
    "\n",
    "## Common Layer Types\n",
    "\n",
    "### Linear Layers\n",
    "\n",
    "The most basic type of neural network layer is a *linear* or *fully connected* layer. This is a layer where every input influences every output of the layer to a degree specified by the layer's weights. If a model has *m* inputs and *n* outputs, the weights will be an *m * n* matrix. For example:"
   ]
  },
  {
   "cell_type": "code",
   "execution_count": 12,
   "metadata": {},
   "outputs": [
    {
     "name": "stdout",
     "output_type": "stream",
     "text": [
      "Input:\n",
      "tensor([[0.8314, 0.8233, 0.4724]])\n",
      "\n",
      "Parameters (weights and biases):\n",
      "Parameter containing:\n",
      "tensor([[ 0.4389,  0.4190, -0.1572],\n",
      "        [ 0.5135,  0.3283, -0.1791]], requires_grad=True)\n",
      "Parameter containing:\n",
      "tensor([-0.3185,  0.0450], requires_grad=True)\n",
      "\n",
      "Output:\n",
      "tensor([[0.3171, 0.6576]], grad_fn=<AddmmBackward0>)\n"
     ]
    }
   ],
   "source": [
    "x = torch.rand(1, 3)\n",
    "lin = nn.Linear(3, 2)\n",
    "print(\"Input:\")\n",
    "print(x)\n",
    "\n",
    "print(\"\\nParameters (weights and biases):\")\n",
    "for param in lin.parameters():\n",
    "    print(param)\n",
    "\n",
    "print(\"\\nOutput:\")\n",
    "out = lin(x)\n",
    "print(out)"
   ]
  },
  {
   "cell_type": "markdown",
   "metadata": {},
   "source": [
    "If you do the matrix multiplication of `x` by the linear layer's weights, and add the biases, you'll find that you get the output vector `y`.\n",
    "\n",
    "One other important feature to note: When we checked the weights of our layer with `lin.weight`, it reported itself as a `Parameter` (which is a subclass of `Tensor`), and let us know that it's tracking gradients with autograd. This is a default behavior for `Parameter` that differs from `Tensor`.\n",
    "\n",
    "Linear layers are used widely in deep learning models. One of the most common places you'll see them is in classifier models, which will usually have one or more linear layers at the end, where the last layer will have *n* outputs, where *n* is the number of classes the classifier addresses.\n",
    "\n",
    "### Convolutional Layers\n",
    "\n",
    "*Convolutional* layers are built to handle data with a high degree of spatial correlation. They are very commonly used in computer vision, where they detect close groupings of features which the compose into higher-level features. They pop up in other contexts too - for example, in NLP applications, where the a word's immediate context (that is, the other words nearby in the sequence) can affect the meaning of a sentence.\n",
    "\n",
    "We saw convolutional layers in action in LeNet5 in an earlier video:"
   ]
  },
  {
   "cell_type": "code",
   "execution_count": 13,
   "metadata": {},
   "outputs": [],
   "source": [
    "import torch.nn.functional as F"
   ]
  },
  {
   "cell_type": "code",
   "execution_count": 14,
   "metadata": {},
   "outputs": [],
   "source": [
    "class LeNet(nn.Module):\n",
    "\n",
    "    def __init__(self):\n",
    "        super(LeNet, self).__init__()\n",
    "        # input image is black and white of shape (1, 32, 32)\n",
    "        self.conv1 = nn.Conv2d(1, 6, 5) # 6 output channels\n",
    "        self.conv2 = nn.Conv2d(6, 16, 3) # 16 output channels\n",
    "        # output of conv1 is (6, 28, 28) is passed through a maxpool2d layer to  yield (6, 14, 14)\n",
    "        # output of conv2 is (6, 12, 12) is passed through a maxpool2d layer to  yield (16, 6, 6) and then flattened\n",
    "        self.fc1 = nn.Linear(16 * 6 * 6, 120) # 6 * 6 from feature dimension\n",
    "        self.fc2 = nn.Linear(120, 84)\n",
    "        self.fc3 = nn.Linear(84, 10)\n",
    "\n",
    "    def forward(self, x:torch.Tensor):\n",
    "        x = F.max_pool2d(F.relu(self.conv1(x)), (2, 2))\n",
    "        x = F.max_pool2d(F.relu(self.conv2(x)), 2)\n",
    "        x = x.view(-1, self.num_flat_features(x))\n",
    "        x = F.relu(self.fc1(x))\n",
    "        x = F.relu(self.fc2(x))\n",
    "        x = self.fc3(x)\n",
    "        return x\n",
    "    \n",
    "    def num_flat_features(self, x:torch.Tensor):\n",
    "        size = x.size()[1:]\n",
    "        num_features = 1\n",
    "        for s in size:\n",
    "            num_features *= s\n",
    "        return num_features"
   ]
  },
  {
   "cell_type": "markdown",
   "metadata": {},
   "source": [
    "Let's break down what's happening in the convolutional layers of this model. Starting with `conv1`:\n",
    "\n",
    "* LeNet5 is meant to take in a 1x32x32 black & white image. **The first argument to a convolutional layer's constructor is the number of input channels.** Here, it is 1. If we were building this model to look at 3-color channels, it would be 3.\n",
    "* A convolutional layer is like a window that scans over the image, looking for a pattern it recognizes. These patterns are called *features,* and one of the parameters of a convolutional layer is the number of features we would like it to learn. **This is the second argument to the constructor is the number of output features.** Here, we're asking our layer to learn 6 features.\n",
    "* Just above, I likened the convolutional layer to a window - but how big is the window? **The third argument is the window or *kernel* size.** Here, the \"5\" means we've chosen a 5x5 kernel. (If you want a kernel with height different from width, you can specify a tuple for this argument - e.g., `(3, 5)` to get a 3x5 convolution kernel.)\n",
    "\n",
    "The output of a convolutional layer is an *activation map* - a spatial representation of the presence of features in the input tensor. `conv1` will give us an output tensor of 6x28x28; 6 is the number of features, and 28 is the height and width of our map. (The 28 comes from the fact that when scanning a 5-pixel window over a 32-pixel row, there are only 28 valid positions.)\n",
    "\n",
    "We then pass the output of the convolution through a ReLU activation function (more on activation functions later), then through a max pooling layer. The max pooling layer takes features near each other in the activation map and groups them together. It does this by reducing the tensor, merging every 2x2 group of cells in the output into a single cell, and assigning that cell the maximum value of the 4 cells that went into it. This gives us a lower-resolution version of the activation map, with dimensions 6x14x14.\n",
    "\n",
    "Our next convolutional layer, `conv2`, expects 6 input channels (corresponding to the 6 features sought by the first layer), has 16 output channels, and a 3x3 kernel. It puts out a 16x12x12 activation map, which is again reduced by a max pooling layer to 16x6x6. Prior to passing this output to the linear layers, it is reshaped to a 16 * 6 * 6 = 576-element vector for consumption by the next layer.\n",
    "\n",
    "There are convolutional layers for addressing 1D, 2D, and 3D tensors. There are also many more optional arguments for a conv layer constructor, including stride length(e.g., only scanning every second or every third position) in the input, padding (so you can scan out to the edges of the input), and more. See the [documentation](https://pytorch.org/docs/stable/nn.html#convolution-layers) for more information.\n",
    "\n",
    "### Recurrent Layers\n",
    "\n",
    "*Recurrent neural networks* (or *RNNs)* are used for sequential data - anything from time-series measurements from a scientific instrument to natural language sentences to DNA nucleotides. An RNN does this by maintaining a *hidden state* that acts as a sort of memory for what it has seen in the sequence so far.\n",
    "\n",
    "The internal structure of an RNN layer - or its variants, the LSTM (long short-term memory) and GRU (gated recurrent unit) - is moderately complex and beyond the scope of this video, but we'll show you what one looks like in action with an LSTM-based part-of-speech tagger (a type of classifier that tells you if a word is a noun, verb, etc.):"
   ]
  },
  {
   "cell_type": "code",
   "execution_count": null,
   "metadata": {},
   "outputs": [],
   "source": [
    "class LSTMTagger(nn.Module):\n",
    "\n",
    "    def __init__(self, embedding_dim, hidden_dim, vocab_size, tagset_size):\n",
    "        super(LSTMTagger, self).__init__()\n",
    "        self.hidden_dim = hidden_dim\n",
    "        self.word_embeddings = nn.Embedding(vocab_size, embedding_dim)\n",
    "\n",
    "        # LSTM takes word embeddings as inputs and then outputs hidden states with dimensionality hidden_dim\n",
    "        self.lstm = nn.LSTM(embedding_dim, hidden_dim)\n",
    "\n",
    "        # A linear layer maps from hidden state space to tag space \n",
    "        self.hidden2tag = nn.Linear(hidden_dim, tagset_size)\n",
    "\n",
    "    def forward(self, sentence):\n",
    "        embeds = self.word_embeddings(sentence)\n",
    "        lstm_out, _ = self.lstm(embeds.view(len(sentence), 1, -1))\n",
    "        tag_space = self.hidden2tag(lstm_out.view(len(sentence), -1))\n",
    "        tag_scores = F.log_softmax(tag_space, dim=-1)\n",
    "        return tag_scores"
   ]
  },
  {
   "cell_type": "markdown",
   "metadata": {},
   "source": [
    "The constructor has four arguments:\n",
    "\n",
    "* `vocab_size` is the number of words in the input vocabulary. Each word is a one-hot vector (or unit vector) in a `vocab_size`-dimensional space.\n",
    "* `tagset_size` is the number of tags in the output set.\n",
    "* `embedding_dim` is the size of the *embedding* space for the vocabulary. An embedding maps a vocabulary onto a low-dimensional space, where words with similar meanings are close together in the space.\n",
    "* `hidden_dim` is the size of the LSTM's memory.\n",
    "\n",
    "The input will be a sentence with the words represented as indices of of one-hot vectors. The embedding layer will then map these down to an `embedding_dim`-dimensional space. The LSTM takes this sequence of embeddings and iterates over it, fielding an output vector of length `hidden_dim`. The final linear layer acts as a classifier; applying `log_softmax()` to the output of the final layer converts the output into a normalized set of estimated probabilities that a given word maps to a given tag.\n",
    "\n",
    "If you'd like to see this network in action, check out the [Sequence Models and LSTM Networks](https://pytorch.org/tutorials/beginner/nlp/sequence_models_tutorial.html) tutorial on pytorch.org.\n",
    "\n",
    "### Transformers\n",
    "\n",
    "*Transformers* are multi-purpose networks that have taken over the state of the art in NLP with models like BERT. A discussion of transformer architecture is beyond the scope of this video, but PyTorch has a `Transformer` class that allows you to define the overall parameters of a transformer model - the number of attention heads, the number of encoder & decoder layers, dropout and activation functions, etc. (You can even build the BERT model from this single class, with the right parameters!) The `torch.nn.Transformer` class also has classes to encapsulate the individual components (`TransformerEncoder`, `TransformerDecoder`) and subcomponents (`TransformerEncoderLayer`, `TransformerDecoderLayer`). For details, check out the [documentation](https://pytorch.org/docs/stable/nn.html#transformer) on transformer classes, and the relevant [tutorial](https://pytorch.org/tutorials/beginner/transformer_tutorial.html) on pytorch.org.\n",
    "\n",
    "## Other Layers and Functions\n",
    "\n",
    "### Data Manipulation Layers\n",
    "\n",
    "There are other layer types that perform important functions in models, but don't participate in the learning process themselves.\n",
    "\n",
    "**Max pooling** (and its twin, min pooling) reduce a tensor by combining cells, and assigning the maximum value of the input cells to the output cell. (We saw this ) For example:"
   ]
  },
  {
   "cell_type": "code",
   "execution_count": 18,
   "metadata": {},
   "outputs": [
    {
     "name": "stdout",
     "output_type": "stream",
     "text": [
      "tensor([[[0.0998, 0.6772, 0.9675, 0.5047, 0.4352, 0.7870],\n",
      "         [0.6337, 0.4071, 0.5127, 0.4898, 0.1062, 0.2767],\n",
      "         [0.9217, 0.3349, 0.8519, 0.1822, 0.3417, 0.0575],\n",
      "         [0.5648, 0.1358, 0.3035, 0.2313, 0.5925, 0.9868],\n",
      "         [0.1741, 0.5627, 0.3827, 0.9448, 0.5269, 0.7987],\n",
      "         [0.0086, 0.6782, 0.3839, 0.3177, 0.2787, 0.5351]]])\n"
     ]
    },
    {
     "data": {
      "text/plain": [
       "tensor([[[0.9675, 0.7870],\n",
       "         [0.6782, 0.9868]]])"
      ]
     },
     "execution_count": 18,
     "metadata": {},
     "output_type": "execute_result"
    }
   ],
   "source": [
    "my_tensor = torch.rand(1, 6, 6)\n",
    "print(my_tensor)\n",
    "\n",
    "maxpool_layer = nn.MaxPool2d(3)\n",
    "maxpool_layer(my_tensor)"
   ]
  },
  {
   "cell_type": "markdown",
   "metadata": {},
   "source": [
    "If you look closely at the values above, you'll see that each of the values in the maxpooled output is the maximum value of each quadrant of the 6x6 input.\n",
    "\n",
    "**Normalization layers** re-center and normalize the output of one layer before feeding it to another. Centering the and scaling the intermediate tensors has a number of beneficial effects, such as letting you use higher learning rates without exploding/vanishing gradients."
   ]
  },
  {
   "cell_type": "code",
   "execution_count": 21,
   "metadata": {},
   "outputs": [
    {
     "name": "stdout",
     "output_type": "stream",
     "text": [
      "tensor([[[15.9056,  5.8741,  9.9999, 24.2898],\n",
      "         [19.2622, 13.6508,  5.1570,  5.9743],\n",
      "         [10.6285,  9.6886,  9.9466, 13.7669],\n",
      "         [24.4591, 14.8318, 12.9306, 16.5937]]])\n",
      "tensor(13.3100)\n",
      "tensor([[[ 0.2729, -1.1768, -0.5806,  1.4845],\n",
      "         [ 1.4219,  0.4549, -1.0088, -0.8680],\n",
      "         [-0.2326, -0.8094, -0.6511,  1.6932],\n",
      "         [ 1.6547, -0.5410, -0.9746, -0.1391]]],\n",
      "       grad_fn=<NativeBatchNormBackward0>)\n",
      "tensor(-9.6858e-08, grad_fn=<MeanBackward0>)\n"
     ]
    }
   ],
   "source": [
    "my_tensor = torch.rand(1, 4, 4) * 20 + 5\n",
    "print(my_tensor)\n",
    "\n",
    "print(my_tensor.mean())\n",
    "\n",
    "norm_layer = nn.BatchNorm1d(4)\n",
    "normed_tensor = norm_layer(my_tensor)\n",
    "print(normed_tensor)\n",
    "\n",
    "print(normed_tensor.mean())"
   ]
  },
  {
   "cell_type": "markdown",
   "metadata": {},
   "source": [
    "Running the cell above, we've added a large scaling factor and offset to an input tensor; you should see the input tensor's `mean()` somewhere in the neighborhood of 15. After running it through the normalization layer, you can see that the values are smaller, and grouped around zero - in fact, the mean should be very small (> 1e-8).\n",
    "\n",
    "This is beneficial because many activation functions (discussed below) have their strongest gradients near 0, but sometimes suffer from vanishing or exploding gradients for inputs that drive them far away from zero. Keeping the data centered around the area of steepest gradient will tend to mean faster, better learning and higher feasible learning rates.\n",
    "\n",
    "**Dropout layers** are a tool for encouraging *sparse representations* in your model - that is, pushing it to do inference with less data.\n",
    "\n",
    "Dropout layers work by randomly setting parts of the input tensor *during training* - dropout layers are always turned off for inference. This forces the model to learn against this masked or reduced dataset. For example:"
   ]
  },
  {
   "cell_type": "code",
   "execution_count": 61,
   "metadata": {},
   "outputs": [
    {
     "name": "stdout",
     "output_type": "stream",
     "text": [
      "tensor([[[0.0456, 0.4438, 0.3301, 0.4411],\n",
      "         [0.7740, 0.2284, 0.0613, 0.3711],\n",
      "         [0.2431, 0.8270, 0.1620, 0.2079],\n",
      "         [0.5226, 0.3071, 0.8823, 0.5270]]])\n",
      "tensor([[[0.0000, 0.7397, 0.5501, 0.0000],\n",
      "         [1.2899, 0.3807, 0.0000, 0.6184],\n",
      "         [0.4051, 0.0000, 0.0000, 0.3465],\n",
      "         [0.8711, 0.0000, 0.0000, 0.8783]]])\n"
     ]
    }
   ],
   "source": [
    "my_tensor = torch.rand(1, 4, 4)\n",
    "\n",
    "dropout = nn.Dropout(p=0.4)\n",
    "print(my_tensor)\n",
    "print(dropout(my_tensor))"
   ]
  },
  {
   "cell_type": "markdown",
   "metadata": {},
   "source": [
    "Above, you can see the effect of dropout on a sample tensor. You can use the optional `p` argument to set the probability of an individual weight dropping out; if you don't it defaults to 0.5.\n",
    "\n",
    "### Activation Functions\n",
    "\n",
    "Activation functions make deep learning possible. A neural network is really a program - with many parameters - that *simulates a mathematical function*. If all we did was multiple tensors by layer weights repeatedly, we could only simulate *linear functions;* further, there would be no point to having many layers, as the whole network would reduce could be reduced to a single matrix multiplication. Inserting *non-linear* activation functions between layers is what allows a deep learning model to simulate any function, rather than just linear ones.\n",
    "\n",
    "`torch.nn.Module` has objects encapsulating all of the major activation functions including ReLU and its many variants, Tanh, Hardtanh, sigmoid, and more. It also includes other functions, such as Softmax, that are most useful at the output stage of a model.\n",
    "\n",
    "### Loss Functions\n",
    "\n",
    "Loss functions tell us how far a model's prediction is from the correct answer. PyTorch contains a variety of loss functions, including common MSE (mean squared error = L2 norm), Cross Entropy Loss and Negative Likelihood Loss (useful for classifiers), and others."
   ]
  }
 ],
 "metadata": {
  "kernelspec": {
   "display_name": "deep",
   "language": "python",
   "name": "python3"
  },
  "language_info": {
   "codemirror_mode": {
    "name": "ipython",
    "version": 3
   },
   "file_extension": ".py",
   "mimetype": "text/x-python",
   "name": "python",
   "nbconvert_exporter": "python",
   "pygments_lexer": "ipython3",
   "version": "3.12.3"
  }
 },
 "nbformat": 4,
 "nbformat_minor": 2
}
